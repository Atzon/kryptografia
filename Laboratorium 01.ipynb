{
 "cells": [
  {
   "cell_type": "markdown",
   "metadata": {},
   "source": [
    "# Kryptografia klasyczna (od starożytności do czasów współczesnych)\n",
    "### Literatura:\n",
    "1. Księga szyfrów, Simon Singh, Świat książki, 2001\n",
    "2. Łamacze kodów, David Kahn, WNT, 2004"
   ]
  },
  {
   "cell_type": "markdown",
   "metadata": {},
   "source": [
    "## Szyfry Cezara\n",
    "--------------\n",
    "Szyfr Cezara oczywiście nie zawdzięcza swego istnienia Juliuszowi Cezarowi. Został przezeń jedynie wspomniany w pamiętnikach JC o wojnach galijskich. Prawdopodobnie była to dobrze znana metoda w tym czasie.\n",
    "\n",
    "### Szyfr monoalfabetyczny: \n",
    "_danemu symbolowi alfabetu jawnego odpowiada dokładnie jeden i ten sam symbol alfabetu tajnego._"
   ]
  },
  {
   "cell_type": "code",
   "execution_count": 1,
   "metadata": {},
   "outputs": [
    {
     "name": "stdout",
     "output_type": "stream",
     "text": [
      "Tekst jawny:  Zorro fly zealotry zipper\n",
      "Szyfrogram:  odggduanotpadignoxeetg (spacje usunięte)\n",
      "Odszyfrowana wiadomość:  zorroflyzealotryzipper (spacje usunięte)\n"
     ]
    }
   ],
   "source": [
    "# Alfabet jawny i szyfrowy \n",
    "alphabets = ['a','b', 'c', 'd', 'e', 'f', 'g', 'h', 'i', 'j', 'k', 'l', 'm', 'n', 'o', 'p',\n",
    "            'q', 'r', 's', 't', 'u', 'v', 'w', 'x', 'y', 'z']\n",
    "\n",
    "alphabet_size = 26\n",
    "\n",
    "plaintext = \"Zorro fly zealotry zipper\"\n",
    "\n",
    "ciphertext = \"\"\n",
    "\n",
    "key = 15 #przesunięcie permutacji czyli klucz szyfrowania \n",
    "\n",
    "print(\"Tekst jawny: \", plaintext)\n",
    "\n",
    "for text in plaintext.lower().split():\n",
    "    for char in text:\n",
    "        ciphertext = ciphertext + alphabets[(alphabets.index(char) + key) % alphabet_size] \n",
    "print(\"Szyfrogram: \",  ciphertext, \"(spacje usunięte)\")\n",
    "\n",
    "decodedtext = \"\"\n",
    "for text in ciphertext:\n",
    "    for char in text:\n",
    "        decodedtext = decodedtext + alphabets[(alphabets.index(char)- key) % alphabet_size]\n",
    "print(\"Odszyfrowana wiadomość: \",  decodedtext,  \"(spacje usunięte)\")"
   ]
  },
  {
   "cell_type": "markdown",
   "metadata": {},
   "source": [
    "## Kryptoanaliza szyfrów monoalfabetycznych\n",
    "\n",
    "Współcześnie kryptoanaliza szyfru Cezara jest trywialna. Można po prostu sprawdzić wszystkie 26 możliwych przesunięć. \n",
    "\n",
    "Szyfry monoalfabetyczne nie są także odporne na __kryptoanalizę statystyczną__. Znając rozkład częstości liter w tekstach napisanych w danym języku możemy odgadnąć przesunięcie obserwując minima i maxima w histogramach. \n",
    "\n",
    "W zasadzie kluczową sprawą w obu przypadkach jest znajomość języka, a w gruncie rzeczy alfabetu.\n",
    "\n",
    "Poniżej przykład kryptoanalizy języka tekstowego. "
   ]
  },
  {
   "cell_type": "code",
   "execution_count": 3,
   "metadata": {},
   "outputs": [
    {
     "name": "stderr",
     "output_type": "stream",
     "text": [
      "[nltk_data] Downloading package words to /home/kstopyra/nltk_data...\n",
      "[nltk_data]   Unzipping corpora/words.zip.\n"
     ]
    },
    {
     "name": "stdout",
     "output_type": "stream",
     "text": [
      "Próba klucza:  25  .... pehhe vbo\n",
      "Próba klucza:  2  .... mbeeb syl\n",
      "Próba klucza:  13  .... bqttq hna\n",
      "Próba klucza:  6  .... ixaax ouh\n",
      "Próba klucza:  6  .... ixaax ouh\n",
      "Próba klucza:  10  .... etwwt kqd\n",
      "Próba klucza:  12  .... cruur iob\n",
      "Próba klucza:  21  .... tilli zfs\n",
      "Próba klucza:  0  .... odggd uan\n",
      "Próba klucza:  15  .... zorro fly\n",
      "\n",
      " Decoded string:  zorro fly\n"
     ]
    }
   ],
   "source": [
    "import nltk\n",
    "nltk.download('words')\n",
    "from nltk.corpus import words\n",
    "\n",
    "\n",
    "unique = []\n",
    "frequency = []\n",
    "psi = []\n",
    "key = 0\n",
    "value = 0.0\n",
    "exit = True\n",
    "\n",
    "ciphertext = \"odggd uan\".lower()\n",
    "\n",
    "alphabets = \"abcdefghijklmnopqrstuvwxyz\"\n",
    "\n",
    "english_frequency_prob = [0.080, 0.015, 0.030, 0.040, 0.130, 0.020, 0.015, 0.060, 0.065, 0.005, \n",
    "                          0.005, 0.035, 0.030, 0.070, 0.080, 0.020, 0.002, 0.065, 0.060, 0.090, \n",
    "                          0.030, 0.010, 0.015, 0.005, 0.020, 0.002]\n",
    "\n",
    "\n",
    "\n",
    "for char in ciphertext: #lista liter w szyfrogramie\n",
    "    if (char not in unique) and (char.isalpha()):\n",
    "        unique.append(char)\n",
    "        \n",
    "only_alphabets = [char for char in ciphertext if char.isalpha()]  #tylko litery\n",
    "\n",
    "for unique_char in unique: #częstość liter w tekście \n",
    "     frequency.append(ciphertext.count(unique_char) / (float)(len(only_alphabets)))\n",
    "\n",
    "for i in range(0,26): #oblicz dopasowanie\n",
    "    for unique_char in unique:\n",
    "         value = value + frequency[unique.index(unique_char)] * english_frequency_prob[alphabets.index(unique_char) - i]\n",
    "    psi.append(value)  \n",
    "    value = 0.0\n",
    "    \n",
    "sorted_psi = psi[:] # sortuj dopasowanie\n",
    "sorted_psi.sort(reverse=True)\n",
    "\n",
    "decoded_string = \"\"\n",
    "for i in range(0, 26):\n",
    "    key = psi.index(sorted_psi[i])\n",
    "    decoded_string = \"\"\n",
    "    for char in ciphertext:\n",
    "        if (char != ' '):\n",
    "            decoded_string = decoded_string + alphabets[alphabets.index(char) - key]\n",
    "        else:\n",
    "            decoded_string = decoded_string + \" \"\n",
    "            \n",
    "    print(\"Próba klucza: \", key, \" ....\", decoded_string)\n",
    "    \n",
    "    for word in decoded_string.split():\n",
    "        if word not in words.words(): #czy szyfrowanie ma sens\n",
    "            exit = False\n",
    "        else:\n",
    "            exit = True\n",
    "    if exit:\n",
    "        break\n",
    "        \n",
    "print(\"\\n\", \"Decoded string: \", decoded_string)"
   ]
  },
  {
   "cell_type": "markdown",
   "metadata": {},
   "source": [
    "# Problem\n",
    "1. Narysuj rozkład częstości występowania liter w języku angielskim (kod rysowania histogramu poniżej)"
   ]
  },
  {
   "cell_type": "code",
   "execution_count": 5,
   "metadata": {},
   "outputs": [
    {
     "data": {
      "image/png": "[encoded data removed]",
      "text/plain": [
       "<Figure size 1080x648 with 1 Axes>"
      ]
     },
     "metadata": {
      "needs_background": "light"
     },
     "output_type": "display_data"
    }
   ],
   "source": [
    "from matplotlib import pyplot as plt\n",
    "import numpy as np\n",
    "\n",
    "letters =   ['a',  'b',    'c',   'd',  'e',   'f',   'g',   'h',   'i',   'j',   'k',   'l',    'm',  'n',   'o',   'p',    'q',  'r',   's',   't',   'u',   'v',   'w',   'x',    'y',   'z']\n",
    "frequency = [0.080, 0.015, 0.030, 0.040, 0.130, 0.020, 0.015, 0.060, 0.065, 0.005, 0.005, 0.035, 0.030, 0.070, 0.080, 0.020, 0.002, 0.065, 0.060, 0.090, 0.030, 0.010, 0.015, 0.005, 0.020, 0.002]\n",
    "labels = np.arange(len(letters))\n",
    "plt.figure(figsize=(15,9))\n",
    "plt.bar(labels, frequency, alpha=0.5, edgecolor=\"green\")\n",
    "plt.xlabel('Alfabet')\n",
    "plt.xticks(np.arange(26), ('a','b', 'c', 'd', 'e', 'f', 'g', 'h', 'i', 'j', 'k', 'l', 'm', 'n', 'o', 'p', 'q', 'r', 's', 't', 'u', 'v', 'w', 'x', 'y', 'z'))\n",
    "plt.title(\"Język angielski\");\n",
    "plt.ylabel('Częstość występowania')\n",
    "plt.show()"
   ]
  },
  {
   "cell_type": "markdown",
   "metadata": {},
   "source": [
    "2. Dokonaj analizy częstości występowania liter w tekście jawnym i szyfrogramie (szyfr Cezara z dowolnym kluczem) dla tekstu w poniższym fragmencie kodu. Wyświetl wyniki podobnie jak powyżej.  "
   ]
  },
  {
   "cell_type": "code",
   "execution_count": 6,
   "metadata": {
    "scrolled": true
   },
   "outputs": [],
   "source": [
    "import numpy as np\n",
    "from matplotlib import pyplot as plt\n",
    "\n",
    "plaintext = \"TobeornottobethatisthequestionWhethertisNoblerinthemindtosufferTheSlingsandArrowsofoutrageousFortuneOrtotakeArmsagainstaSeaoftroublesAndbyopposingendthem\"\n",
    "\n",
    "Alphabet = [\n",
    "    'a','b','c','d','e','f','g','h','i','j','k','l','m',\n",
    "    'n','o','p','q','r','s','t','u','v','w','x','y','z'\n",
    "]\n",
    "\n",
    "# policz częstość i wyświetl rozkłady "
   ]
  },
  {
   "cell_type": "markdown",
   "metadata": {},
   "source": [
    "## Podsumowanie \n",
    "Główną słabością szyfrów monoalfabetycznych jest stałość przekształcenia, dzięki czemu możliwe jest łatwe zaobserwowanie regularności.\n",
    "\n",
    "Rozwiązaniem może być zmiana alfabetów w trakcie szyfrowania. Dla uproszczenia wystarczy zmieniać jedynie porządek liter. \n",
    "\n",
    "# Problem\n",
    "1. Napisać program, który zmienia alfabet szyfrowania po każdej literze.\n",
    "_Co będzie potrzebne oprócz tekst jawnego?_\n"
   ]
  },
  {
   "cell_type": "code",
   "execution_count": 35,
   "metadata": {},
   "outputs": [
    {
     "name": "stdout",
     "output_type": "stream",
     "text": [
      "EPSLEPSZEPS\n"
     ]
    }
   ],
   "source": [
    "plaintext = \"THEYTHEMTHE\"\n",
    "#text = \"OWUPSIGREPSPLB\"\n",
    "alphabets = \"ABCDEFGHIJKLMNOPQRSTUVWXYZ\".upper()\n",
    "key = \"LION\"\n",
    "do = \"encryption\"\n",
    "\n",
    "index = 0\n",
    "encoded = []\n",
    "for symbol in plaintext:\n",
    "    num = alphabets.find(symbol.upper()) #pozycja litery tekstu w alfabecie\n",
    "    #print(symbol, \": \", alphabets.find(symbol.upper()))\n",
    "    if num != -1:\n",
    "        #print(key[index], \": \", alphabets.find(key[index]))\n",
    "        if do == 'encryption':\n",
    "            num += alphabets.find(key[index]) #pozycja litery klucza w alfabecie\n",
    "        elif do == 'decryption':\n",
    "            num -= alphabets.find(key[index])\n",
    "        #print(num)    \n",
    "        num %= len(alphabets)\n",
    "        #print(num, \": \", alphabets[num])\n",
    "        encoded.append(alphabets[num])\n",
    "        index += 1\n",
    "        if index == len(key):\n",
    "            index = 0\n",
    "    else:\n",
    "        encoded.append(symbol)\n",
    "\n",
    "print( ''.join(encoded))"
   ]
  },
  {
   "cell_type": "markdown",
   "metadata": {},
   "source": [
    "### Zastanów się:\n",
    "1. Sprawdź jak wygląda histogram szyfrogrami. \n",
    "2. Zastanów się jakie znaczenia ma długość klucza dla bezpieczeństwa szyfrowania.\n",
    "3. Czy powtarzanie klucza można wykorzystać dla potrzeb kryptoanalizy? \n",
    "4. Jaki klucz gwarantowałby bezpieczeństwo?\n",
    "5. Jaki rozkład częstości symboli szyfrogramu nie ujawni żadnych przydatnych danych kryptoanalitykowi? \n",
    "\n",
    "### Szyfr polialfabetyczny \n",
    "_Szyfr używający wielu alfabetów szyfrowych. W trakcie szyfrowania te same litery w tekście jawnym_\n",
    "\n",
    "### Szyfr doskonały (według Clouda Shannona):\n",
    "1. Jakie warunki musi spełniać szyfr-nie-do-złamania? "
   ]
  },
  {
   "cell_type": "markdown",
   "metadata": {},
   "source": [
    "## Zadanie (dodatkowe, na ocenę)\n",
    "1. Napisz notebook jupyter, które implementuje klasyczne szyfry mechaniczne: Enigma, szyfr Playfair, szyfr maszyny Lorenza. W sieci można łatwo znaleźć gotowe kody, wiec przy ocenie zwracam uwagę no dokładne omówienie kodu, przejrzystość, komentarze etc. "
   ]
  },
  {
   "cell_type": "markdown",
   "metadata": {},
   "source": [
    "*** \n",
    "# Szyfrowanie strumieniowe\n",
    "\n",
    "Szyfrowanie strumieniowe polega na zastępowaniu litery tekstu jawnego przez literę szyfrogrami, znak po znaku, bit/bajt po bitcie/bajcie.\n",
    "1. Poszukaj informacji o szyfrowaniu Vernama\n",
    "2. Jak można skonstruować najprostszy algorytm szyfrowania strumieniowego?\n",
    "\n",
    "## Problem \n",
    "1. Napisz prosty program szyfrujący (z kluczem) ciąg znaków z użyciem operatora logicznego. Jaki operator będzie najwygodniejszy? Jak będziesz używał klucza? \n"
   ]
  },
  {
   "cell_type": "code",
   "execution_count": 9,
   "metadata": {
    "collapsed": true
   },
   "outputs": [],
   "source": [
    "# napisz program "
   ]
  },
  {
   "cell_type": "markdown",
   "metadata": {},
   "source": [
    "### Zastanów się: \n",
    "1. Poszukaj informacji o szyfrach binarnie addytywnych \n",
    "2. Jakie znaczenie ma klucz w szyfrach tego typu?\n",
    "3. Co się dzieje gdy klucz jest ,,nielosowy''? \n",
    "4. W jaki sposób wygenerować strumień pseudolosowy zależny od klucza?\n",
    "5. Czy szyfr strumieniowy jak powyżej jest bezpieczny? Czy może być stosowany w praktyce? Jakie widzisz problemy z jego użytkowaniem?"
   ]
  },
  {
   "cell_type": "markdown",
   "metadata": {},
   "source": [
    "## Jak sprawdzić losowość ciągu? \n",
    "Przykładowy test monobit"
   ]
  },
  {
   "cell_type": "code",
   "execution_count": 27,
   "metadata": {},
   "outputs": [
    {
     "name": "stdout",
     "output_type": "stream",
     "text": [
      "1111010010111111111010001011000100101001000001101000000001000101110100100111010000000110010100110100001000111111100110100100110110001111000100101111111011101001101011001110010011001110101000010101100110000110010111000010001101110111000011100110001001011001001000001011011111001001010100101001001101010110011111001100001001101111100010000110101111101100100100010111011000110101111011110111110011101100111101001111101000000101001011110111111000110001000010001110100011110111101000001000111111000111001011111100101111000001110101000010100110001011111110010100111110110101100010001110100011000110010000101001110101001011011101110000110100111001010110111011011100110011111011010000111111011111110100100011000100000110111111101110011100111000110100011010101000111001101010000011011100111011100111111101000010111100011001000010111111000000101010100000011101110010111100000110001100100010001100001101010110000100011001011011101010000000000010100111011001101100001001001101100110010010010101111011101011101011111110001100011000010000\n",
      "0.661748776082\n"
     ]
    }
   ],
   "source": [
    "import numpy\n",
    "import math\n",
    "from scipy import special as spc\n",
    "\n",
    "def monobit(bin_data: str):\n",
    "    \"\"\"\n",
    "    Note that this description is taken from the NIST documentation [1]\n",
    "    [1] http://csrc.nist.gov/publications/nistpubs/800-22-rev1a/SP800-22rev1a.pdf\n",
    "  \n",
    "    The focus of this test is the proportion of zeros and ones for the entire sequence. The purpose of this test is\n",
    "    to determine whether the number of ones and zeros in a sequence are approximately the same as would be expected\n",
    "    for a truly random sequence. This test assesses the closeness of the fraction of ones to 1/2, that is the number\n",
    "    of ones and zeros ina  sequence should be about the same. All subsequent tests depend on this test.\n",
    "  \n",
    "    :param bin_data: a binary string\n",
    "    :return: the p-value from the test\n",
    "    \"\"\"\n",
    "    count = 0\n",
    "    # If the char is 0 minus 1, else add 1\n",
    "    for char in bin_data:\n",
    "        if char == '0':\n",
    "            count -= 1\n",
    "        else:\n",
    "            count += 1\n",
    "    # Calculate the p value\n",
    "    sobs = count / math.sqrt(len(bin_data))\n",
    "    p_val = spc.erfc(math.fabs(sobs) / math.sqrt(2))\n",
    "    return p_val\n",
    "\n",
    "\n",
    "#Generowanie n-bitowego ciągu \n",
    "n=3\n",
    "#arr = numpy.random.randint(2, size=(n,))\n",
    "bitString = []\n",
    "for i in range(0, 1024):\n",
    "    x = str(numpy.random.randint(0, 2))\n",
    "    bitString.append(x)\n",
    "arr = ''.join(bitString)\n",
    "print(arr)\n",
    "print(monobit(arr))"
   ]
  },
  {
   "cell_type": "markdown",
   "metadata": {},
   "source": [
    "## Zadanie (dodatkowe)\n",
    "Testy losowości NIST https://csrc.nist.gov/publications/detail/sp/800-22/rev-1a/final\n",
    "1. Zaimplementuj wybrany test losowości w postaci jupyter notebooka"
   ]
  },
  {
   "cell_type": "markdown",
   "metadata": {},
   "source": [
    "# Szyfr strumieniowy RC4\n"
   ]
  },
  {
   "cell_type": "code",
   "execution_count": 10,
   "metadata": {},
   "outputs": [
    {
     "name": "stdout",
     "output_type": "stream",
     "text": [
      "Wygenerowany strumień klucza : [106, 16, 129, 29, 223, 185, 239, 197, 182, 150, 157, 252, 200, 141, 10, 238, 64, 235, 101, 43, 10, 235, 150, 214, 228, 156, 51, 47, 209, 67, 175, 29, 96, 181, 155, 235, 198, 209, 57, 138, 13]\n",
      "plaintext: Good work! Your implementation is correct\n",
      "ciphertext: 2D7FEE79FFCE80B7DDB7BDA5A7F878CE298615476F86F3B890FD4746BE2D8F741395F884B4A35CE979\n",
      "decrypted: Good work! Your implementation is correct\n",
      "\n",
      "Congrats ! You made it.\n"
     ]
    }
   ],
   "source": [
    "#!/usr/bin/env python\n",
    "# -*- coding: utf-8 -*-\n",
    "# author: @manojpandey\n",
    "\n",
    "# Python 3 implementation for RC4 algorithm\n",
    "# Brief: https://en.wikipedia.org/wiki/RC4\n",
    "\n",
    "# Will use codecs, as 'str' object in Python 3 doesn't have any attribute 'decode'\n",
    "import codecs\n",
    "\n",
    "MOD = 256\n",
    "\n",
    "\n",
    "def KSA(key):\n",
    "    ''' Key Scheduling Algorithm (from wikipedia):\n",
    "        for i from 0 to 255\n",
    "            S[i] := i\n",
    "        endfor\n",
    "        j := 0\n",
    "        for i from 0 to 255\n",
    "            j := (j + S[i] + key[i mod keylength]) mod 256\n",
    "            swap values of S[i] and S[j]\n",
    "        endfor\n",
    "    '''\n",
    "    key_length = len(key)\n",
    "    # create the array \"S\"\n",
    "    S = list(range(MOD))  # [0,1,2, ... , 255]\n",
    "    j = 0\n",
    "    for i in range(MOD):\n",
    "        j = (j + S[i] + key[i % key_length]) % MOD\n",
    "        S[i], S[j] = S[j], S[i]  # swap values\n",
    "    return S\n",
    "\n",
    "\n",
    "def PRGA(S):\n",
    "    ''' Psudo Random Generation Algorithm (from wikipedia):\n",
    "        i := 0\n",
    "        j := 0\n",
    "        while GeneratingOutput:\n",
    "            i := (i + 1) mod 256\n",
    "            j := (j + S[i]) mod 256\n",
    "            swap values of S[i] and S[j]\n",
    "            K := S[(S[i] + S[j]) mod 256]\n",
    "            output K\n",
    "        endwhile\n",
    "    '''\n",
    "    i = 0\n",
    "    j = 0\n",
    "    while True:\n",
    "        i = (i + 1) % MOD\n",
    "        j = (j + S[i]) % MOD\n",
    "\n",
    "        S[i], S[j] = S[j], S[i]  # swap values\n",
    "        K = S[(S[i] + S[j]) % MOD]\n",
    "        yield K\n",
    "\n",
    "\n",
    "def get_keystream(key):\n",
    "    ''' Takes the encryption key to get the keystream using PRGA\n",
    "        return object is a generator\n",
    "    '''\n",
    "    S = KSA(key)\n",
    "    return PRGA(S)\n",
    "\n",
    "\n",
    "def encrypt_logic(key, text, kstr):\n",
    "    ''' :key -> encryption key used for encrypting, as hex string\n",
    "        :text -> array of unicode values/ byte string to encrpyt/decrypt\n",
    "    '''\n",
    "    # For plaintext key, use this\n",
    "    key = [ord(c) for c in key]\n",
    "    # If key is in hex:\n",
    "    # key = codecs.decode(key, 'hex_codec')\n",
    "    # key = [c for c in key]\n",
    "    keystream = get_keystream(key)\n",
    "    res = []\n",
    "    for c in text:\n",
    "        ks = next(keystream)\n",
    "        kstr.append(ks)\n",
    "        val = (\"%02X\" % (c ^ ks))  # XOR and taking hex\n",
    "        res.append(val)\n",
    "    return ''.join(res)\n",
    "\n",
    "\n",
    "def encrypt(key, plaintext):\n",
    "    ''' :key -> encryption key used for encrypting, as hex string\n",
    "        :plaintext -> plaintext string to encrpyt\n",
    "    '''\n",
    "    kstream =[]\n",
    "    plaintext = [ord(c) for c in plaintext]\n",
    "    text = encrypt_logic(key, plaintext,kstream)\n",
    "    print(\"Wygenerowany strumień klucza :\", kstream)\n",
    "    return text\n",
    "\n",
    "\n",
    "def decrypt(key, ciphertext):\n",
    "    ''' :key -> encryption key used for encrypting, as hex string\n",
    "        :ciphertext -> hex encoded ciphered text using RC4\n",
    "    '''\n",
    "    kstream =[]\n",
    "    ciphertext = codecs.decode(ciphertext, 'hex_codec')\n",
    "    res = encrypt_logic(key, ciphertext,kstream)\n",
    "    return codecs.decode(res, 'hex_codec').decode('utf-8')\n",
    "\n",
    "\n",
    "def main():\n",
    "\n",
    "    key = 'not-so-random-key'  # plaintext\n",
    "    plaintext = 'Good work! Your implementation is correct'  # plaintext\n",
    "    # encrypt the plaintext, using key and RC4 algorithm\n",
    "    ciphertext = encrypt(key, plaintext)\n",
    "    print('plaintext:', plaintext)\n",
    "    print('ciphertext:', ciphertext)\n",
    "    # ..\n",
    "    # Let's check the implementation\n",
    "    # ..\n",
    "    ciphertext = '2D7FEE79FFCE80B7DDB7BDA5A7F878CE298615'\\\n",
    "        '476F86F3B890FD4746BE2D8F741395F884B4A35CE979'\n",
    "    # change ciphertext to string again\n",
    "    decrypted = decrypt(key, ciphertext)\n",
    "    print('decrypted:', decrypted)\n",
    "\n",
    "    if plaintext == decrypted:\n",
    "        print('\\nCongrats ! You made it.')\n",
    "    else:\n",
    "        print('Shit! You pooped your pants ! .-.')\n",
    "\n",
    "    # until next time folks !\n",
    "\n",
    "\n",
    "def test():\n",
    "\n",
    "    # Test case 1\n",
    "    # key = '4B6579' # 'Key' in hex\n",
    "    # key = 'Key'\n",
    "    # plaintext = 'Plaintext'\n",
    "    # ciphertext = 'BBF316E8D940AF0AD3'\n",
    "    assert(encrypt('Key', 'Plaintext')) == 'BBF316E8D940AF0AD3'\n",
    "    assert(decrypt('Key', 'BBF316E8D940AF0AD3')) == 'Plaintext'\n",
    "\n",
    "    # Test case 2\n",
    "    # key = 'Wiki' # '57696b69'in hex\n",
    "    # plaintext = 'pedia'\n",
    "    # ciphertext should be 1021BF0420\n",
    "    assert(encrypt('Wiki', 'pedia')) == '1021BF0420'\n",
    "    assert(decrypt('Wiki', '1021BF0420')) == 'pedia'\n",
    "\n",
    "    # Test case 3\n",
    "    # key = 'Secret' # '536563726574' in hex\n",
    "    # plaintext = 'Attack at dawn'\n",
    "    # ciphertext should be 45A01F645FC35B383552544B9BF5\n",
    "    assert(encrypt('Secret',\n",
    "                   'Attack at dawn')) == '45A01F645FC35B383552544B9BF5'\n",
    "    assert(decrypt('Secret',\n",
    "                   '45A01F645FC35B383552544B9BF5')) == 'Attack at dawn'\n",
    "\n",
    "if __name__ == '__main__':\n",
    "    main()"
   ]
  },
  {
   "cell_type": "code",
   "execution_count": null,
   "metadata": {
    "collapsed": true
   },
   "outputs": [],
   "source": []
  }
 ],
 "metadata": {
  "kernelspec": {
   "display_name": "Python 3",
   "language": "python",
   "name": "python3"
  },
  "language_info": {
   "codemirror_mode": {
    "name": "ipython",
    "version": 3
   },
   "file_extension": ".py",
   "mimetype": "text/x-python",
   "name": "python",
   "nbconvert_exporter": "python",
   "pygments_lexer": "ipython3",
   "version": "3.6.8"
  }
 },
 "nbformat": 4,
 "nbformat_minor": 1
}
